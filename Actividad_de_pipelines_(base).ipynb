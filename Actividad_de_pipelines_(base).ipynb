{
  "nbformat": 4,
  "nbformat_minor": 0,
  "metadata": {
    "colab": {
      "provenance": [],
      "authorship_tag": "ABX9TyNORCY1WjuDHAzcy2I24iEV",
      "include_colab_link": true
    },
    "kernelspec": {
      "name": "python3",
      "display_name": "Python 3"
    },
    "language_info": {
      "name": "python"
    }
  },
  "cells": [
    {
      "cell_type": "markdown",
      "metadata": {
        "id": "view-in-github",
        "colab_type": "text"
      },
      "source": [
        "<a href=\"https://colab.research.google.com/github/MegaPlayer64/CodingDojoDataScienceClasses/blob/First-Activities/Actividad_de_pipelines_(base).ipynb\" target=\"_parent\"><img src=\"https://colab.research.google.com/assets/colab-badge.svg\" alt=\"Open In Colab\"/></a>"
      ]
    },
    {
      "cell_type": "markdown",
      "source": [
        "# **Tarea N°0:**\n",
        "**Preparación del programa**"
      ],
      "metadata": {
        "id": "8LZi-UDyckoQ"
      }
    },
    {
      "cell_type": "code",
      "execution_count": 13,
      "metadata": {
        "id": "xg-z2wnocJOz",
        "colab": {
          "base_uri": "https://localhost:8080/",
          "height": 634
        },
        "outputId": "8030cd72-2f01-47b1-c62a-64a9eb6d0030"
      },
      "outputs": [
        {
          "output_type": "execute_result",
          "data": {
            "text/plain": [
              "                       Name                 Manufacturer  Type  \\\n",
              "0   Apple Cinnamon Cheerios                General Mills  Cold   \n",
              "1                   Basic 4                General Mills  Cold   \n",
              "2                  Cheerios                General Mills  Cold   \n",
              "3     Cinnamon Toast Crunch                General Mills  Cold   \n",
              "4                  Clusters                General Mills  Cold   \n",
              "..                      ...                          ...   ...   \n",
              "72                Rice Chex               Ralston Purina  Cold   \n",
              "73               Wheat Chex               Ralston Purina  Cold   \n",
              "74                    Maypo  American Home Food Products   Hot   \n",
              "75   Cream of Wheat (Quick)                      Nabisco   Hot   \n",
              "76           Quaker Oatmeal                  Quaker Oats   Hot   \n",
              "\n",
              "    Calories_per_serving  Grams_of_protein  Grams_of_fat  Miligrams_of_sodium  \\\n",
              "0                  110.0                 2           2.0                180.0   \n",
              "1                  130.0                 3           2.0                  NaN   \n",
              "2                    NaN                 6           2.0                290.0   \n",
              "3                  120.0                 1           3.0                210.0   \n",
              "4                  110.0                 3           2.0                140.0   \n",
              "..                   ...               ...           ...                  ...   \n",
              "72                 110.0                 1           NaN                240.0   \n",
              "73                 100.0                 3           1.0                230.0   \n",
              "74                 100.0                 4           1.0                  0.0   \n",
              "75                 100.0                 3           0.0                 80.0   \n",
              "76                 100.0                 5           2.0                  0.0   \n",
              "\n",
              "    Grams_of_dietary_fiber  Grams_of_complex_carbohydrates  Grams_of_sugars  \\\n",
              "0                      1.5                            10.5             10.0   \n",
              "1                      2.0                            18.0              NaN   \n",
              "2                      2.0                            17.0              1.0   \n",
              "3                      0.0                            13.0              9.0   \n",
              "4                      2.0                            13.0              7.0   \n",
              "..                     ...                             ...              ...   \n",
              "72                     0.0                            23.0              2.0   \n",
              "73                     3.0                            17.0              3.0   \n",
              "74                     0.0                            16.0              NaN   \n",
              "75                     1.0                            21.0              0.0   \n",
              "76                     2.7                            -1.0             -1.0   \n",
              "\n",
              "    Miligrams_of_potassium  Vitamins_and_minerals  Display_shef  \\\n",
              "0                       70                   25.0             1   \n",
              "1                      100                   25.0             3   \n",
              "2                      105                   25.0             1   \n",
              "3                       45                   25.0             2   \n",
              "4                      105                   25.0             3   \n",
              "..                     ...                    ...           ...   \n",
              "72                      30                   25.0             1   \n",
              "73                     115                   25.0             1   \n",
              "74                      95                   25.0             2   \n",
              "75                      -1                    0.0             2   \n",
              "76                     110                    0.0             1   \n",
              "\n",
              "    Weight_in_ounces_per_one_serving  Number_of_cups  Rating_of_cereal  \n",
              "0                               1.00            0.75         29.509541  \n",
              "1                               1.33            0.75         37.038562  \n",
              "2                               1.00            1.25         50.764999  \n",
              "3                               1.00            0.75         19.823573  \n",
              "4                               1.00            0.50         40.400208  \n",
              "..                               ...             ...               ...  \n",
              "72                              1.00            1.13         41.998933  \n",
              "73                              1.00            0.67         49.787445  \n",
              "74                              1.00            1.00         54.850917  \n",
              "75                              1.00            1.00         64.533816  \n",
              "76                              1.00            0.67         50.828392  \n",
              "\n",
              "[77 rows x 16 columns]"
            ],
            "text/html": [
              "\n",
              "  <div id=\"df-1e22e038-5087-48d1-b2b7-2d3d8064e59b\" class=\"colab-df-container\">\n",
              "    <div>\n",
              "<style scoped>\n",
              "    .dataframe tbody tr th:only-of-type {\n",
              "        vertical-align: middle;\n",
              "    }\n",
              "\n",
              "    .dataframe tbody tr th {\n",
              "        vertical-align: top;\n",
              "    }\n",
              "\n",
              "    .dataframe thead th {\n",
              "        text-align: right;\n",
              "    }\n",
              "</style>\n",
              "<table border=\"1\" class=\"dataframe\">\n",
              "  <thead>\n",
              "    <tr style=\"text-align: right;\">\n",
              "      <th></th>\n",
              "      <th>Name</th>\n",
              "      <th>Manufacturer</th>\n",
              "      <th>Type</th>\n",
              "      <th>Calories_per_serving</th>\n",
              "      <th>Grams_of_protein</th>\n",
              "      <th>Grams_of_fat</th>\n",
              "      <th>Miligrams_of_sodium</th>\n",
              "      <th>Grams_of_dietary_fiber</th>\n",
              "      <th>Grams_of_complex_carbohydrates</th>\n",
              "      <th>Grams_of_sugars</th>\n",
              "      <th>Miligrams_of_potassium</th>\n",
              "      <th>Vitamins_and_minerals</th>\n",
              "      <th>Display_shef</th>\n",
              "      <th>Weight_in_ounces_per_one_serving</th>\n",
              "      <th>Number_of_cups</th>\n",
              "      <th>Rating_of_cereal</th>\n",
              "    </tr>\n",
              "  </thead>\n",
              "  <tbody>\n",
              "    <tr>\n",
              "      <th>0</th>\n",
              "      <td>Apple Cinnamon Cheerios</td>\n",
              "      <td>General Mills</td>\n",
              "      <td>Cold</td>\n",
              "      <td>110.0</td>\n",
              "      <td>2</td>\n",
              "      <td>2.0</td>\n",
              "      <td>180.0</td>\n",
              "      <td>1.5</td>\n",
              "      <td>10.5</td>\n",
              "      <td>10.0</td>\n",
              "      <td>70</td>\n",
              "      <td>25.0</td>\n",
              "      <td>1</td>\n",
              "      <td>1.00</td>\n",
              "      <td>0.75</td>\n",
              "      <td>29.509541</td>\n",
              "    </tr>\n",
              "    <tr>\n",
              "      <th>1</th>\n",
              "      <td>Basic 4</td>\n",
              "      <td>General Mills</td>\n",
              "      <td>Cold</td>\n",
              "      <td>130.0</td>\n",
              "      <td>3</td>\n",
              "      <td>2.0</td>\n",
              "      <td>NaN</td>\n",
              "      <td>2.0</td>\n",
              "      <td>18.0</td>\n",
              "      <td>NaN</td>\n",
              "      <td>100</td>\n",
              "      <td>25.0</td>\n",
              "      <td>3</td>\n",
              "      <td>1.33</td>\n",
              "      <td>0.75</td>\n",
              "      <td>37.038562</td>\n",
              "    </tr>\n",
              "    <tr>\n",
              "      <th>2</th>\n",
              "      <td>Cheerios</td>\n",
              "      <td>General Mills</td>\n",
              "      <td>Cold</td>\n",
              "      <td>NaN</td>\n",
              "      <td>6</td>\n",
              "      <td>2.0</td>\n",
              "      <td>290.0</td>\n",
              "      <td>2.0</td>\n",
              "      <td>17.0</td>\n",
              "      <td>1.0</td>\n",
              "      <td>105</td>\n",
              "      <td>25.0</td>\n",
              "      <td>1</td>\n",
              "      <td>1.00</td>\n",
              "      <td>1.25</td>\n",
              "      <td>50.764999</td>\n",
              "    </tr>\n",
              "    <tr>\n",
              "      <th>3</th>\n",
              "      <td>Cinnamon Toast Crunch</td>\n",
              "      <td>General Mills</td>\n",
              "      <td>Cold</td>\n",
              "      <td>120.0</td>\n",
              "      <td>1</td>\n",
              "      <td>3.0</td>\n",
              "      <td>210.0</td>\n",
              "      <td>0.0</td>\n",
              "      <td>13.0</td>\n",
              "      <td>9.0</td>\n",
              "      <td>45</td>\n",
              "      <td>25.0</td>\n",
              "      <td>2</td>\n",
              "      <td>1.00</td>\n",
              "      <td>0.75</td>\n",
              "      <td>19.823573</td>\n",
              "    </tr>\n",
              "    <tr>\n",
              "      <th>4</th>\n",
              "      <td>Clusters</td>\n",
              "      <td>General Mills</td>\n",
              "      <td>Cold</td>\n",
              "      <td>110.0</td>\n",
              "      <td>3</td>\n",
              "      <td>2.0</td>\n",
              "      <td>140.0</td>\n",
              "      <td>2.0</td>\n",
              "      <td>13.0</td>\n",
              "      <td>7.0</td>\n",
              "      <td>105</td>\n",
              "      <td>25.0</td>\n",
              "      <td>3</td>\n",
              "      <td>1.00</td>\n",
              "      <td>0.50</td>\n",
              "      <td>40.400208</td>\n",
              "    </tr>\n",
              "    <tr>\n",
              "      <th>...</th>\n",
              "      <td>...</td>\n",
              "      <td>...</td>\n",
              "      <td>...</td>\n",
              "      <td>...</td>\n",
              "      <td>...</td>\n",
              "      <td>...</td>\n",
              "      <td>...</td>\n",
              "      <td>...</td>\n",
              "      <td>...</td>\n",
              "      <td>...</td>\n",
              "      <td>...</td>\n",
              "      <td>...</td>\n",
              "      <td>...</td>\n",
              "      <td>...</td>\n",
              "      <td>...</td>\n",
              "      <td>...</td>\n",
              "    </tr>\n",
              "    <tr>\n",
              "      <th>72</th>\n",
              "      <td>Rice Chex</td>\n",
              "      <td>Ralston Purina</td>\n",
              "      <td>Cold</td>\n",
              "      <td>110.0</td>\n",
              "      <td>1</td>\n",
              "      <td>NaN</td>\n",
              "      <td>240.0</td>\n",
              "      <td>0.0</td>\n",
              "      <td>23.0</td>\n",
              "      <td>2.0</td>\n",
              "      <td>30</td>\n",
              "      <td>25.0</td>\n",
              "      <td>1</td>\n",
              "      <td>1.00</td>\n",
              "      <td>1.13</td>\n",
              "      <td>41.998933</td>\n",
              "    </tr>\n",
              "    <tr>\n",
              "      <th>73</th>\n",
              "      <td>Wheat Chex</td>\n",
              "      <td>Ralston Purina</td>\n",
              "      <td>Cold</td>\n",
              "      <td>100.0</td>\n",
              "      <td>3</td>\n",
              "      <td>1.0</td>\n",
              "      <td>230.0</td>\n",
              "      <td>3.0</td>\n",
              "      <td>17.0</td>\n",
              "      <td>3.0</td>\n",
              "      <td>115</td>\n",
              "      <td>25.0</td>\n",
              "      <td>1</td>\n",
              "      <td>1.00</td>\n",
              "      <td>0.67</td>\n",
              "      <td>49.787445</td>\n",
              "    </tr>\n",
              "    <tr>\n",
              "      <th>74</th>\n",
              "      <td>Maypo</td>\n",
              "      <td>American Home Food Products</td>\n",
              "      <td>Hot</td>\n",
              "      <td>100.0</td>\n",
              "      <td>4</td>\n",
              "      <td>1.0</td>\n",
              "      <td>0.0</td>\n",
              "      <td>0.0</td>\n",
              "      <td>16.0</td>\n",
              "      <td>NaN</td>\n",
              "      <td>95</td>\n",
              "      <td>25.0</td>\n",
              "      <td>2</td>\n",
              "      <td>1.00</td>\n",
              "      <td>1.00</td>\n",
              "      <td>54.850917</td>\n",
              "    </tr>\n",
              "    <tr>\n",
              "      <th>75</th>\n",
              "      <td>Cream of Wheat (Quick)</td>\n",
              "      <td>Nabisco</td>\n",
              "      <td>Hot</td>\n",
              "      <td>100.0</td>\n",
              "      <td>3</td>\n",
              "      <td>0.0</td>\n",
              "      <td>80.0</td>\n",
              "      <td>1.0</td>\n",
              "      <td>21.0</td>\n",
              "      <td>0.0</td>\n",
              "      <td>-1</td>\n",
              "      <td>0.0</td>\n",
              "      <td>2</td>\n",
              "      <td>1.00</td>\n",
              "      <td>1.00</td>\n",
              "      <td>64.533816</td>\n",
              "    </tr>\n",
              "    <tr>\n",
              "      <th>76</th>\n",
              "      <td>Quaker Oatmeal</td>\n",
              "      <td>Quaker Oats</td>\n",
              "      <td>Hot</td>\n",
              "      <td>100.0</td>\n",
              "      <td>5</td>\n",
              "      <td>2.0</td>\n",
              "      <td>0.0</td>\n",
              "      <td>2.7</td>\n",
              "      <td>-1.0</td>\n",
              "      <td>-1.0</td>\n",
              "      <td>110</td>\n",
              "      <td>0.0</td>\n",
              "      <td>1</td>\n",
              "      <td>1.00</td>\n",
              "      <td>0.67</td>\n",
              "      <td>50.828392</td>\n",
              "    </tr>\n",
              "  </tbody>\n",
              "</table>\n",
              "<p>77 rows × 16 columns</p>\n",
              "</div>\n",
              "    <div class=\"colab-df-buttons\">\n",
              "\n",
              "  <div class=\"colab-df-container\">\n",
              "    <button class=\"colab-df-convert\" onclick=\"convertToInteractive('df-1e22e038-5087-48d1-b2b7-2d3d8064e59b')\"\n",
              "            title=\"Convert this dataframe to an interactive table.\"\n",
              "            style=\"display:none;\">\n",
              "\n",
              "  <svg xmlns=\"http://www.w3.org/2000/svg\" height=\"24px\" viewBox=\"0 -960 960 960\">\n",
              "    <path d=\"M120-120v-720h720v720H120Zm60-500h600v-160H180v160Zm220 220h160v-160H400v160Zm0 220h160v-160H400v160ZM180-400h160v-160H180v160Zm440 0h160v-160H620v160ZM180-180h160v-160H180v160Zm440 0h160v-160H620v160Z\"/>\n",
              "  </svg>\n",
              "    </button>\n",
              "\n",
              "  <style>\n",
              "    .colab-df-container {\n",
              "      display:flex;\n",
              "      gap: 12px;\n",
              "    }\n",
              "\n",
              "    .colab-df-convert {\n",
              "      background-color: #E8F0FE;\n",
              "      border: none;\n",
              "      border-radius: 50%;\n",
              "      cursor: pointer;\n",
              "      display: none;\n",
              "      fill: #1967D2;\n",
              "      height: 32px;\n",
              "      padding: 0 0 0 0;\n",
              "      width: 32px;\n",
              "    }\n",
              "\n",
              "    .colab-df-convert:hover {\n",
              "      background-color: #E2EBFA;\n",
              "      box-shadow: 0px 1px 2px rgba(60, 64, 67, 0.3), 0px 1px 3px 1px rgba(60, 64, 67, 0.15);\n",
              "      fill: #174EA6;\n",
              "    }\n",
              "\n",
              "    .colab-df-buttons div {\n",
              "      margin-bottom: 4px;\n",
              "    }\n",
              "\n",
              "    [theme=dark] .colab-df-convert {\n",
              "      background-color: #3B4455;\n",
              "      fill: #D2E3FC;\n",
              "    }\n",
              "\n",
              "    [theme=dark] .colab-df-convert:hover {\n",
              "      background-color: #434B5C;\n",
              "      box-shadow: 0px 1px 3px 1px rgba(0, 0, 0, 0.15);\n",
              "      filter: drop-shadow(0px 1px 2px rgba(0, 0, 0, 0.3));\n",
              "      fill: #FFFFFF;\n",
              "    }\n",
              "  </style>\n",
              "\n",
              "    <script>\n",
              "      const buttonEl =\n",
              "        document.querySelector('#df-1e22e038-5087-48d1-b2b7-2d3d8064e59b button.colab-df-convert');\n",
              "      buttonEl.style.display =\n",
              "        google.colab.kernel.accessAllowed ? 'block' : 'none';\n",
              "\n",
              "      async function convertToInteractive(key) {\n",
              "        const element = document.querySelector('#df-1e22e038-5087-48d1-b2b7-2d3d8064e59b');\n",
              "        const dataTable =\n",
              "          await google.colab.kernel.invokeFunction('convertToInteractive',\n",
              "                                                    [key], {});\n",
              "        if (!dataTable) return;\n",
              "\n",
              "        const docLinkHtml = 'Like what you see? Visit the ' +\n",
              "          '<a target=\"_blank\" href=https://colab.research.google.com/notebooks/data_table.ipynb>data table notebook</a>'\n",
              "          + ' to learn more about interactive tables.';\n",
              "        element.innerHTML = '';\n",
              "        dataTable['output_type'] = 'display_data';\n",
              "        await google.colab.output.renderOutput(dataTable, element);\n",
              "        const docLink = document.createElement('div');\n",
              "        docLink.innerHTML = docLinkHtml;\n",
              "        element.appendChild(docLink);\n",
              "      }\n",
              "    </script>\n",
              "  </div>\n",
              "\n",
              "\n",
              "<div id=\"df-ad2c076f-917c-46df-a899-4e739a62672f\">\n",
              "  <button class=\"colab-df-quickchart\" onclick=\"quickchart('df-ad2c076f-917c-46df-a899-4e739a62672f')\"\n",
              "            title=\"Suggest charts\"\n",
              "            style=\"display:none;\">\n",
              "\n",
              "<svg xmlns=\"http://www.w3.org/2000/svg\" height=\"24px\"viewBox=\"0 0 24 24\"\n",
              "     width=\"24px\">\n",
              "    <g>\n",
              "        <path d=\"M19 3H5c-1.1 0-2 .9-2 2v14c0 1.1.9 2 2 2h14c1.1 0 2-.9 2-2V5c0-1.1-.9-2-2-2zM9 17H7v-7h2v7zm4 0h-2V7h2v10zm4 0h-2v-4h2v4z\"/>\n",
              "    </g>\n",
              "</svg>\n",
              "  </button>\n",
              "\n",
              "<style>\n",
              "  .colab-df-quickchart {\n",
              "      --bg-color: #E8F0FE;\n",
              "      --fill-color: #1967D2;\n",
              "      --hover-bg-color: #E2EBFA;\n",
              "      --hover-fill-color: #174EA6;\n",
              "      --disabled-fill-color: #AAA;\n",
              "      --disabled-bg-color: #DDD;\n",
              "  }\n",
              "\n",
              "  [theme=dark] .colab-df-quickchart {\n",
              "      --bg-color: #3B4455;\n",
              "      --fill-color: #D2E3FC;\n",
              "      --hover-bg-color: #434B5C;\n",
              "      --hover-fill-color: #FFFFFF;\n",
              "      --disabled-bg-color: #3B4455;\n",
              "      --disabled-fill-color: #666;\n",
              "  }\n",
              "\n",
              "  .colab-df-quickchart {\n",
              "    background-color: var(--bg-color);\n",
              "    border: none;\n",
              "    border-radius: 50%;\n",
              "    cursor: pointer;\n",
              "    display: none;\n",
              "    fill: var(--fill-color);\n",
              "    height: 32px;\n",
              "    padding: 0;\n",
              "    width: 32px;\n",
              "  }\n",
              "\n",
              "  .colab-df-quickchart:hover {\n",
              "    background-color: var(--hover-bg-color);\n",
              "    box-shadow: 0 1px 2px rgba(60, 64, 67, 0.3), 0 1px 3px 1px rgba(60, 64, 67, 0.15);\n",
              "    fill: var(--button-hover-fill-color);\n",
              "  }\n",
              "\n",
              "  .colab-df-quickchart-complete:disabled,\n",
              "  .colab-df-quickchart-complete:disabled:hover {\n",
              "    background-color: var(--disabled-bg-color);\n",
              "    fill: var(--disabled-fill-color);\n",
              "    box-shadow: none;\n",
              "  }\n",
              "\n",
              "  .colab-df-spinner {\n",
              "    border: 2px solid var(--fill-color);\n",
              "    border-color: transparent;\n",
              "    border-bottom-color: var(--fill-color);\n",
              "    animation:\n",
              "      spin 1s steps(1) infinite;\n",
              "  }\n",
              "\n",
              "  @keyframes spin {\n",
              "    0% {\n",
              "      border-color: transparent;\n",
              "      border-bottom-color: var(--fill-color);\n",
              "      border-left-color: var(--fill-color);\n",
              "    }\n",
              "    20% {\n",
              "      border-color: transparent;\n",
              "      border-left-color: var(--fill-color);\n",
              "      border-top-color: var(--fill-color);\n",
              "    }\n",
              "    30% {\n",
              "      border-color: transparent;\n",
              "      border-left-color: var(--fill-color);\n",
              "      border-top-color: var(--fill-color);\n",
              "      border-right-color: var(--fill-color);\n",
              "    }\n",
              "    40% {\n",
              "      border-color: transparent;\n",
              "      border-right-color: var(--fill-color);\n",
              "      border-top-color: var(--fill-color);\n",
              "    }\n",
              "    60% {\n",
              "      border-color: transparent;\n",
              "      border-right-color: var(--fill-color);\n",
              "    }\n",
              "    80% {\n",
              "      border-color: transparent;\n",
              "      border-right-color: var(--fill-color);\n",
              "      border-bottom-color: var(--fill-color);\n",
              "    }\n",
              "    90% {\n",
              "      border-color: transparent;\n",
              "      border-bottom-color: var(--fill-color);\n",
              "    }\n",
              "  }\n",
              "</style>\n",
              "\n",
              "  <script>\n",
              "    async function quickchart(key) {\n",
              "      const quickchartButtonEl =\n",
              "        document.querySelector('#' + key + ' button');\n",
              "      quickchartButtonEl.disabled = true;  // To prevent multiple clicks.\n",
              "      quickchartButtonEl.classList.add('colab-df-spinner');\n",
              "      try {\n",
              "        const charts = await google.colab.kernel.invokeFunction(\n",
              "            'suggestCharts', [key], {});\n",
              "      } catch (error) {\n",
              "        console.error('Error during call to suggestCharts:', error);\n",
              "      }\n",
              "      quickchartButtonEl.classList.remove('colab-df-spinner');\n",
              "      quickchartButtonEl.classList.add('colab-df-quickchart-complete');\n",
              "    }\n",
              "    (() => {\n",
              "      let quickchartButtonEl =\n",
              "        document.querySelector('#df-ad2c076f-917c-46df-a899-4e739a62672f button');\n",
              "      quickchartButtonEl.style.display =\n",
              "        google.colab.kernel.accessAllowed ? 'block' : 'none';\n",
              "    })();\n",
              "  </script>\n",
              "</div>\n",
              "\n",
              "    </div>\n",
              "  </div>\n"
            ]
          },
          "metadata": {},
          "execution_count": 13
        }
      ],
      "source": [
        "import pandas as pd\n",
        "import numpy as np\n",
        "from sklearn import set_config\n",
        "from sklearn.preprocessing import StandardScaler\n",
        "from sklearn.impute import SimpleImputer\n",
        "from sklearn.model_selection import train_test_split\n",
        "from sklearn.compose import make_column_selector\n",
        "from sklearn.preprocessing import OneHotEncoder\n",
        "from sklearn.pipeline import make_pipeline\n",
        "from sklearn.compose import make_column_transformer, make_column_selector\n",
        "from sklearn.impute import SimpleImputer\n",
        "\n",
        "filename = '/content/Cereal with missing values.xlsx - Sheet 1 - cereal.csv'\n",
        "df = pd.read_csv(filename)\n",
        "df = df.rename(columns={\n",
        " 'name': 'Name',\n",
        " 'Manufacturer': 'Manufacturer',\n",
        " 'type': 'Type',\n",
        " 'calories per serving': 'Calories_per_serving',\n",
        " 'grams of protein': 'Grams_of_protein',\n",
        " 'grams of fat': 'Grams_of_fat',\n",
        " 'milligrams of sodium': 'Miligrams_of_sodium',\n",
        " 'grams of dietary fiber': 'Grams_of_dietary_fiber',\n",
        " 'grams of complex carbohydrates': 'Grams_of_complex_carbohydrates',\n",
        " 'grams of sugars': 'Grams_of_sugars',\n",
        " 'milligrams of potassium': 'Miligrams_of_potassium',\n",
        " 'vitamins and minerals (% of FDA recommendation)': 'Vitamins_and_minerals',\n",
        " 'Display shelf': 'Display_shef',\n",
        " 'Weight in ounces per one serving': 'Weight_in_ounces_per_one_serving',\n",
        " 'Number of cups in one serving': 'Number_of_cups',\n",
        " 'Rating of cereal': 'Rating_of_cereal'\n",
        "})\n",
        "df.head(23987)"
      ]
    },
    {
      "cell_type": "markdown",
      "source": [
        "# **Tarea N°1:**\n",
        "**Definir la característica (X) y objetivo (y).**"
      ],
      "metadata": {
        "id": "9FWxDAVhJen4"
      }
    },
    {
      "cell_type": "code",
      "source": [
        "y = df['Calories_per_serving']\n",
        "# basándose en el fabricante, tipo de cereal, gramos de grasa, gramos de azúcares y el peso en onzas por una porción del cereal?\n",
        "X = df.drop(columns=['Manufacturer',\t'Type', 'Grams_of_fat', 'Grams_of_sugars',\t'Weight_in_ounces_per_one_serving'])"
      ],
      "metadata": {
        "id": "l_E0Y5qJJm8I"
      },
      "execution_count": 14,
      "outputs": []
    },
    {
      "cell_type": "markdown",
      "source": [
        "# **Tarea N°2**\n",
        "**Utilizar train test split en los datos para prepararlos para aprendizaje automático.**\n"
      ],
      "metadata": {
        "id": "8ii3-JjgJkh0"
      }
    },
    {
      "cell_type": "code",
      "source": [
        "X_train, X_test, y_train, y_test = train_test_split(X, y, random_state=42)"
      ],
      "metadata": {
        "id": "kLIWlCcLJd48"
      },
      "execution_count": 15,
      "outputs": []
    },
    {
      "cell_type": "markdown",
      "source": [
        "# **Tarea N°3**\n",
        "**Identificar cada característica como numérica, ordinal o nominal. (Entreguen esta pregunta en una celda de texto en un cuaderno de Colab).**\n"
      ],
      "metadata": {
        "id": "rSRfcogGI2_E"
      }
    },
    {
      "cell_type": "code",
      "source": [
        "df.dtypes"
      ],
      "metadata": {
        "colab": {
          "base_uri": "https://localhost:8080/"
        },
        "id": "z0n26pzAJVdM",
        "outputId": "ae782a90-3c05-4624-e56c-c3cb4c3eee6e"
      },
      "execution_count": 26,
      "outputs": [
        {
          "output_type": "execute_result",
          "data": {
            "text/plain": [
              "Name                                 object\n",
              "Manufacturer                          int64\n",
              "Type                                float64\n",
              "Calories_per_serving                float64\n",
              "Grams_of_protein                      int64\n",
              "Grams_of_fat                        float64\n",
              "Miligrams_of_sodium                 float64\n",
              "Grams_of_dietary_fiber              float64\n",
              "Grams_of_complex_carbohydrates      float64\n",
              "Grams_of_sugars                     float64\n",
              "Miligrams_of_potassium                int64\n",
              "Vitamins_and_minerals               float64\n",
              "Display_shef                          int64\n",
              "Weight_in_ounces_per_one_serving    float64\n",
              "Number_of_cups                      float64\n",
              "Rating_of_cereal                    float64\n",
              "dtype: object"
            ]
          },
          "metadata": {},
          "execution_count": 26
        }
      ]
    },
    {
      "cell_type": "markdown",
      "source": [
        "**Tipos de datos:**\n",
        "\n",
        "**Name:**                                              object\n",
        "\n",
        "**Manufacturer:**                                        object\n",
        "\n",
        "**Type:**                                                object\n",
        "\n",
        "**Calories per serving:**                              float64\n",
        "\n",
        "**Grams of protein:**                                   int64\n",
        "\n",
        "**Grams of fat:**                                    float64\n",
        "\n",
        "**Milligrams of sodium:**                               float64\n",
        "\n",
        "**Grams of dietary fiber:**                        float64\n",
        "\n",
        "**Grams of complex carbohydrates:**                    float64\n",
        "\n",
        "**Grams of sugars:**                                    float64\n",
        "\n",
        "**Milligrams of potassium:**                              int64\n",
        "\n",
        "**Vitamins and minerals (% of FDA recommendation):**   float64\n",
        "\n",
        "**Display shelf:**                                      int64\n",
        "\n",
        "**Weight in ounces per one serving:**                   float64\n",
        "\n",
        "**Number of cups in one serving:**                      float64\n",
        "\n",
        "**Rating of cereal:**                                   float64\n"
      ],
      "metadata": {
        "id": "D9uGHGlVJYwl"
      }
    },
    {
      "cell_type": "markdown",
      "source": [
        "# **Tarea N°4:**\n",
        "\n",
        "**Utilizar pipelines y transformadores de columnas para completar las siguientes tareas:**\n"
      ],
      "metadata": {
        "id": "sM5hqUIzn5PC"
      }
    },
    {
      "cell_type": "markdown",
      "source": [
        "**Tarea A:**\n",
        "Imputar algún valor faltante. Utilizar la estrategia “mean” para las columnas numéricas y la estrategia “most_frequent” para las columnas categóricas."
      ],
      "metadata": {
        "id": "72woFKVuoVHg"
      }
    },
    {
      "cell_type": "code",
      "source": [
        "df.isna().sum()"
      ],
      "metadata": {
        "colab": {
          "base_uri": "https://localhost:8080/"
        },
        "id": "X7uDQm4Xqk4u",
        "outputId": "e0b19622-7b31-49c9-8b42-151633d4fa34"
      },
      "execution_count": 17,
      "outputs": [
        {
          "output_type": "execute_result",
          "data": {
            "text/plain": [
              "Name                                0\n",
              "Manufacturer                        0\n",
              "Type                                9\n",
              "Calories_per_serving                7\n",
              "Grams_of_protein                    0\n",
              "Grams_of_fat                        8\n",
              "Miligrams_of_sodium                 1\n",
              "Grams_of_dietary_fiber              0\n",
              "Grams_of_complex_carbohydrates      0\n",
              "Grams_of_sugars                     9\n",
              "Miligrams_of_potassium              0\n",
              "Vitamins_and_minerals               1\n",
              "Display_shef                        0\n",
              "Weight_in_ounces_per_one_serving    0\n",
              "Number_of_cups                      0\n",
              "Rating_of_cereal                    0\n",
              "dtype: int64"
            ]
          },
          "metadata": {},
          "execution_count": 17
        }
      ]
    },
    {
      "cell_type": "code",
      "source": [
        "type_mode = df['Type'].mode()\n",
        "calories_median = df['Calories_per_serving'].median()\n",
        "fat_median = df['Grams_of_fat'].median()\n",
        "sodium_median = df['Miligrams_of_sodium'].median()\n",
        "sugars_median = df['Grams_of_sugars'].median()\n",
        "vm_median = df['Vitamins_and_minerals'].median()\n",
        "\n",
        "df['Type'].fillna(type_mode, inplace=True)\n",
        "df['Calories_per_serving'].fillna(calories_median, inplace=True)\n",
        "df['Grams_of_fat'].fillna(fat_median, inplace=True)\n",
        "df['Miligrams_of_sodium'].fillna(sodium_median, inplace=True)\n",
        "df['Grams_of_sugars'].fillna(sugars_median, inplace=True)\n",
        "df['Vitamins_and_minerals'].fillna(vm_median, inplace=True)\n",
        "\n",
        "df.isna().sum()"
      ],
      "metadata": {
        "colab": {
          "base_uri": "https://localhost:8080/"
        },
        "id": "NYIN7rVPqUBF",
        "outputId": "eb7595cd-ac3b-4ed5-c95b-123103d7eb95"
      },
      "execution_count": 18,
      "outputs": [
        {
          "output_type": "execute_result",
          "data": {
            "text/plain": [
              "Name                                0\n",
              "Manufacturer                        0\n",
              "Type                                9\n",
              "Calories_per_serving                0\n",
              "Grams_of_protein                    0\n",
              "Grams_of_fat                        0\n",
              "Miligrams_of_sodium                 0\n",
              "Grams_of_dietary_fiber              0\n",
              "Grams_of_complex_carbohydrates      0\n",
              "Grams_of_sugars                     0\n",
              "Miligrams_of_potassium              0\n",
              "Vitamins_and_minerals               0\n",
              "Display_shef                        0\n",
              "Weight_in_ounces_per_one_serving    0\n",
              "Number_of_cups                      0\n",
              "Rating_of_cereal                    0\n",
              "dtype: int64"
            ]
          },
          "metadata": {},
          "execution_count": 18
        }
      ]
    },
    {
      "cell_type": "markdown",
      "source": [
        "Extra: Pasar object/strings importantes a float64"
      ],
      "metadata": {
        "id": "uwviTvg4Zi3C"
      }
    },
    {
      "cell_type": "code",
      "source": [
        "df.Type = df.Type.replace({\"Cold\": 0, \"Hot\": 1})\n",
        "df.Manufacturer = df.Manufacturer.replace({\"General Mills\": 0, \"Kelloggs\": 1, \"Nabisco\": 2, \"Post\": 3, \"Quaker Oats\": 4, \"Ralston Purina\": 5, \"American Home Food Products\": 6})"
      ],
      "metadata": {
        "id": "E31N9ZMLc9_E"
      },
      "execution_count": 25,
      "outputs": []
    },
    {
      "cell_type": "markdown",
      "source": [
        "**Tarea B:** Realizar una codificación one-hot a las características nominales."
      ],
      "metadata": {
        "id": "AeSryuGToZyE"
      }
    },
    {
      "cell_type": "markdown",
      "source": [
        "¿Qué tan bien se pueden predecir las calorías basándose en el fabricante, tipo de cereal, gramos de grasa, gramos de azúcares y el peso en onzas por una porción del cereal?"
      ],
      "metadata": {
        "id": "Mo7SRb-axBNm"
      }
    },
    {
      "cell_type": "code",
      "source": [
        "y = df['Calories_per_serving']\n",
        "# Me siento tan XD por haber usado esto: X = df.drop(columns=['Manufacturer',\t'Type', 'Grams_of_fat', 'Grams_of_sugars',\t'Weight_in_ounces_per_one_serving'])\n",
        "X = df[['Manufacturer',\t'Type', 'Grams_of_fat', 'Grams_of_sugars',\t'Weight_in_ounces_per_one_serving']]\n",
        "X_train, X_test, y_train, y_test = train_test_split(X, y, random_state=42)"
      ],
      "metadata": {
        "id": "TrQsaUR3wmDG"
      },
      "execution_count": 46,
      "outputs": []
    },
    {
      "cell_type": "code",
      "source": [
        "ohe = OneHotEncoder(handle_unknown='ignore', sparse=False)\n",
        "ring_selector = make_column_selector(dtype_include='object')\n",
        "train_ring_data = X_train[ring_selector(X_train)]\n",
        "test_ring_data = X_test[ring_selector(X_test)]\n",
        "encoder = OneHotEncoder(sparse=False, handle_unknown='ignore')\n",
        "encoder.fit(train_ring_data)\n",
        "train_ohe = encoder.transform(train_ring_data)\n",
        "test_ohe = encoder.transform(test_ring_data)\n",
        "train_ohe"
      ],
      "metadata": {
        "id": "2TcBXaREpu0p",
        "colab": {
          "base_uri": "https://localhost:8080/"
        },
        "outputId": "26c2821a-c941-41de-98c9-cfc3928ef7b1"
      },
      "execution_count": 50,
      "outputs": [
        {
          "output_type": "stream",
          "name": "stderr",
          "text": [
            "/usr/local/lib/python3.10/dist-packages/sklearn/preprocessing/_encoders.py:868: FutureWarning: `sparse` was renamed to `sparse_output` in version 1.2 and will be removed in 1.4. `sparse_output` is ignored unless you leave `sparse` to its default value.\n",
            "  warnings.warn(\n"
          ]
        },
        {
          "output_type": "execute_result",
          "data": {
            "text/plain": [
              "array([], shape=(57, 0), dtype=float64)"
            ]
          },
          "metadata": {},
          "execution_count": 50
        }
      ]
    },
    {
      "cell_type": "markdown",
      "source": [
        "**Tarea C:** Escalar las columnas numéricas."
      ],
      "metadata": {
        "id": "1XUFJf9VpFHP"
      }
    },
    {
      "cell_type": "code",
      "source": [
        "median_imputer = SimpleImputer(strategy='median')\n",
        "mean_imputer = SimpleImputer(strategy='mean')\n",
        "scaler = StandardScaler()\n",
        "freq_imputer = SimpleImputer(strategy='most_frequent')\n",
        "\n",
        "preprocessing_pipeline = make_pipeline(median_imputer, scaler)\n",
        "preprocessing_pipeline.fit(X_train, y_train)\n",
        "X_train_processed = preprocessing_pipeline.transform(X_train)\n",
        "X_test_processed = preprocessing_pipeline.transform(X_test)"
      ],
      "metadata": {
        "id": "1y2yOrtxpvB7"
      },
      "execution_count": 55,
      "outputs": []
    },
    {
      "cell_type": "markdown",
      "source": [
        "# **Tarea N°5:**\n",
        "Todos los datos de preprocesamiento deben estar contenidos en un único objeto de preprocesamiento."
      ],
      "metadata": {
        "id": "EUyerRPKpLdl"
      }
    },
    {
      "cell_type": "code",
      "source": [
        "numeric_pipe = make_pipeline(mean_imputer, scaler)\n",
        "categorical_pipe = make_pipeline(freq_imputer, ohe)\n",
        "cat_selector = make_column_selector(dtype_include='object')\n",
        "num_selector = make_column_selector(dtype_include='number')\n",
        "number_tuple = (numeric_pipe, num_selector)\n",
        "category_tuple = (categorical_pipe, cat_selector)\n",
        "preprocessor = make_column_transformer(number_tuple, category_tuple)"
      ],
      "metadata": {
        "id": "Sr76fd9JpvQH"
      },
      "execution_count": 59,
      "outputs": []
    },
    {
      "cell_type": "markdown",
      "source": [
        "# **Tarea N°6:**\n",
        "Utilizar el objeto de preprocesamiento para transformar los datos de manera adecuada, evitar la fuga de datos para dejarlos listos para el modelado.\n"
      ],
      "metadata": {
        "id": "2NuGPTKupRBI"
      }
    },
    {
      "cell_type": "code",
      "source": [
        "preprocessor.fit(X_train)\n",
        "X_train_processed = preprocessor.transform(X_train)\n",
        "X_test_processed = preprocessor.transform(X_test)"
      ],
      "metadata": {
        "id": "W2vD1XIspvkp"
      },
      "execution_count": 60,
      "outputs": []
    },
    {
      "cell_type": "markdown",
      "source": [
        "# **Tarea N°7:**\n",
        "Muestren los arrays de NumPy resultantes."
      ],
      "metadata": {
        "id": "Lw8U841tpccd"
      }
    },
    {
      "cell_type": "code",
      "source": [
        "X_train_processed"
      ],
      "metadata": {
        "id": "jEGS3qH6pwJT",
        "colab": {
          "base_uri": "https://localhost:8080/"
        },
        "outputId": "c36f7056-1813-417e-d091-030c6e1be5a9"
      },
      "execution_count": 62,
      "outputs": [
        {
          "output_type": "execute_result",
          "data": {
            "text/plain": [
              "array([[-4.99428304e-01, -2.22487418e-01, -9.74679434e-01,\n",
              "         1.00853658e+00, -1.32764897e-01],\n",
              "       [-4.99428304e-01, -2.22487418e-01,  0.00000000e+00,\n",
              "         1.23575629e+00,  2.03880702e+00],\n",
              "       [-4.99428304e-01, -2.22487418e-01, -9.74679434e-01,\n",
              "        -8.09221051e-01, -1.32764897e-01],\n",
              "       [-1.08039592e+00, -2.22487418e-01,  0.00000000e+00,\n",
              "         1.69019569e+00,  3.15749558e+00],\n",
              "       [ 1.24347455e+00, -2.22487418e-01,  0.00000000e+00,\n",
              "        -1.27561939e-01, -1.32764897e-01],\n",
              "       [ 6.62506934e-01, -2.22487418e-01,  0.00000000e+00,\n",
              "        -3.54781643e-01, -1.32764897e-01],\n",
              "       [-4.99428304e-01, -2.22487418e-01, -9.74679434e-01,\n",
              "         9.96577649e-02, -1.32764897e-01],\n",
              "       [-1.08039592e+00, -2.22487418e-01,  0.00000000e+00,\n",
              "         7.81316877e-01, -1.32764897e-01],\n",
              "       [ 1.24347455e+00, -2.22487418e-01,  0.00000000e+00,\n",
              "        -1.27561939e-01, -1.32764897e-01],\n",
              "       [-4.99428304e-01, -2.22487418e-01, -9.74679434e-01,\n",
              "        -8.09221051e-01, -1.32764897e-01],\n",
              "       [ 1.82444217e+00, -2.22487418e-01,  0.00000000e+00,\n",
              "        -8.09221051e-01, -1.32764897e-01],\n",
              "       [ 8.15393149e-02, -2.22487418e-01, -9.74679434e-01,\n",
              "        -3.54781643e-01, -1.32764897e-01],\n",
              "       [ 1.24347455e+00,  5.22845433e+00,  9.74679434e-01,\n",
              "        -1.71809987e+00, -1.32764897e-01],\n",
              "       [-1.08039592e+00, -2.22487418e-01,  0.00000000e+00,\n",
              "        -1.27561939e-01, -1.32764897e-01],\n",
              "       [ 1.24347455e+00, -2.22487418e-01, -9.74679434e-01,\n",
              "        -1.49088016e+00, -3.42302538e+00],\n",
              "       [-4.99428304e-01, -2.22487418e-01, -9.74679434e-01,\n",
              "        -1.03644076e+00, -1.32764897e-01],\n",
              "       [-4.99428304e-01, -3.78235065e-17,  0.00000000e+00,\n",
              "        -8.09221051e-01, -1.32764897e-01],\n",
              "       [-1.08039592e+00, -3.78235065e-17,  9.74679434e-01,\n",
              "        -1.27561939e-01,  1.51236534e+00],\n",
              "       [ 6.62506934e-01, -2.22487418e-01, -9.74679434e-01,\n",
              "        -8.09221051e-01, -1.32764897e-01],\n",
              "       [-1.08039592e+00, -2.22487418e-01,  1.94935887e+00,\n",
              "         5.54097173e-01, -1.32764897e-01],\n",
              "       [-1.08039592e+00, -2.22487418e-01,  0.00000000e+00,\n",
              "        -8.09221051e-01, -1.32764897e-01],\n",
              "       [-4.99428304e-01, -2.22487418e-01, -9.74679434e-01,\n",
              "        -1.03644076e+00, -1.32764897e-01],\n",
              "       [-1.08039592e+00, -2.22487418e-01,  0.00000000e+00,\n",
              "         5.54097173e-01, -1.32764897e-01],\n",
              "       [ 1.24347455e+00, -3.78235065e-17,  9.74679434e-01,\n",
              "         1.00853658e+00, -1.32764897e-01],\n",
              "       [-1.08039592e+00, -3.78235065e-17,  0.00000000e+00,\n",
              "         1.46297599e+00, -1.32764897e-01],\n",
              "       [-4.99428304e-01, -2.22487418e-01,  0.00000000e+00,\n",
              "         5.54097173e-01, -1.32764897e-01],\n",
              "       [ 1.82444217e+00, -2.22487418e-01,  1.94935887e+00,\n",
              "         1.00853658e+00, -1.32764897e-01],\n",
              "       [ 6.62506934e-01, -2.22487418e-01,  1.94935887e+00,\n",
              "        -5.82001347e-01, -1.32764897e-01],\n",
              "       [ 8.15393149e-02, -3.78235065e-17, -9.74679434e-01,\n",
              "        -1.49088016e+00, -1.25145346e+00],\n",
              "       [ 8.15393149e-02,  5.22845433e+00, -9.74679434e-01,\n",
              "        -1.49088016e+00, -1.32764897e-01],\n",
              "       [-1.08039592e+00, -2.22487418e-01,  0.00000000e+00,\n",
              "        -8.09221051e-01, -1.32764897e-01],\n",
              "       [-4.99428304e-01, -2.22487418e-01,  0.00000000e+00,\n",
              "        -1.27561939e-01, -1.32764897e-01],\n",
              "       [-4.99428304e-01, -2.22487418e-01, -9.74679434e-01,\n",
              "        -1.27561939e-01, -1.32764897e-01],\n",
              "       [-4.99428304e-01, -2.22487418e-01, -9.74679434e-01,\n",
              "         1.23575629e+00, -1.32764897e-01],\n",
              "       [ 8.15393149e-02, -2.22487418e-01, -9.74679434e-01,\n",
              "        -1.49088016e+00, -1.32764897e-01],\n",
              "       [-4.99428304e-01, -2.22487418e-01, -9.74679434e-01,\n",
              "         1.69019569e+00, -1.32764897e-01],\n",
              "       [-4.99428304e-01, -2.22487418e-01,  0.00000000e+00,\n",
              "         1.91741540e+00, -1.32764897e-01],\n",
              "       [ 1.82444217e+00, -2.22487418e-01, -9.74679434e-01,\n",
              "        -3.54781643e-01, -1.32764897e-01],\n",
              "       [ 6.62506934e-01, -2.22487418e-01, -9.74679434e-01,\n",
              "         1.00853658e+00, -1.32764897e-01],\n",
              "       [-1.08039592e+00, -2.22487418e-01,  0.00000000e+00,\n",
              "         1.23575629e+00, -1.32764897e-01],\n",
              "       [-4.99428304e-01, -2.22487418e-01, -9.74679434e-01,\n",
              "         1.23575629e+00,  2.03880702e+00],\n",
              "       [ 1.82444217e+00, -2.22487418e-01,  0.00000000e+00,\n",
              "        -1.03644076e+00, -1.32764897e-01],\n",
              "       [ 1.24347455e+00, -2.22487418e-01,  3.89871774e+00,\n",
              "         3.26877469e-01, -1.32764897e-01],\n",
              "       [ 1.24347455e+00, -2.22487418e-01, -9.74679434e-01,\n",
              "        -1.49088016e+00, -3.42302538e+00],\n",
              "       [ 1.82444217e+00, -2.22487418e-01,  0.00000000e+00,\n",
              "        -1.27561939e-01, -1.32764897e-01],\n",
              "       [-4.99428304e-01, -2.22487418e-01,  9.74679434e-01,\n",
              "         9.96577649e-02,  2.03880702e+00],\n",
              "       [-4.99428304e-01, -2.22487418e-01,  0.00000000e+00,\n",
              "         1.46297599e+00, -1.32764897e-01],\n",
              "       [-1.08039592e+00, -2.22487418e-01,  9.74679434e-01,\n",
              "        -1.27561939e-01,  2.03880702e+00],\n",
              "       [ 6.62506934e-01, -3.78235065e-17,  0.00000000e+00,\n",
              "         1.23575629e+00, -1.32764897e-01],\n",
              "       [-1.08039592e+00, -2.22487418e-01,  0.00000000e+00,\n",
              "         3.26877469e-01, -1.32764897e-01],\n",
              "       [-1.08039592e+00, -2.22487418e-01,  9.74679434e-01,\n",
              "        -1.26366046e+00, -1.32764897e-01],\n",
              "       [-4.99428304e-01, -2.22487418e-01, -9.74679434e-01,\n",
              "        -1.49088016e+00, -1.32764897e-01],\n",
              "       [-1.08039592e+00, -3.78235065e-17,  0.00000000e+00,\n",
              "        -8.09221051e-01, -1.32764897e-01],\n",
              "       [ 1.24347455e+00, -2.22487418e-01,  9.74679434e-01,\n",
              "         1.23575629e+00, -1.32764897e-01],\n",
              "       [ 1.82444217e+00, -3.78235065e-17,  1.94935887e+00,\n",
              "         1.00853658e+00, -1.32764897e-01],\n",
              "       [-1.08039592e+00, -2.22487418e-01,  9.74679434e-01,\n",
              "         3.26877469e-01, -1.32764897e-01],\n",
              "       [ 6.62506934e-01, -2.22487418e-01,  0.00000000e+00,\n",
              "        -1.27561939e-01,  1.51236534e+00]])"
            ]
          },
          "metadata": {},
          "execution_count": 62
        }
      ]
    }
  ]
}