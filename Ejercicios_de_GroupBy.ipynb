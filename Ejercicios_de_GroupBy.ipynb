{
  "nbformat": 4,
  "nbformat_minor": 0,
  "metadata": {
    "colab": {
      "provenance": [],
      "authorship_tag": "ABX9TyNfd7qxY5Ydc2AytDRpKW0P",
      "include_colab_link": true
    },
    "kernelspec": {
      "name": "python3",
      "display_name": "Python 3"
    },
    "language_info": {
      "name": "python"
    }
  },
  "cells": [
    {
      "cell_type": "markdown",
      "metadata": {
        "id": "view-in-github",
        "colab_type": "text"
      },
      "source": [
        "<a href=\"https://colab.research.google.com/github/MegaPlayer64/CodingDojoDataScienceClasses/blob/First-Activities/Ejercicios_de_GroupBy.ipynb\" target=\"_parent\"><img src=\"https://colab.research.google.com/assets/colab-badge.svg\" alt=\"Open In Colab\"/></a>"
      ]
    },
    {
      "cell_type": "markdown",
      "source": [
        "# **Ejercicios de GroupBy**"
      ],
      "metadata": {
        "id": "octiXNAGzqhv"
      }
    },
    {
      "cell_type": "markdown",
      "source": [
        "# Codigo inicial: \"renombrar columnas\" y \"seleccionar datos\""
      ],
      "metadata": {
        "id": "cI-D5QtazuH0"
      }
    },
    {
      "cell_type": "code",
      "execution_count": 43,
      "metadata": {
        "id": "bJAhURlmqN2M"
      },
      "outputs": [],
      "source": [
        "import pandas as pd\n",
        "#filename = '/content/CalIt2.csv'\n",
        "filename = 'CalIt2.csv'\n",
        "df = pd.read_csv(filename, header = None)\n",
        "df.columns = ['Flow_ID',\n",
        "              'Date',\n",
        "              'Time',\n",
        "              'Count']\n",
        "why = df.loc[(df['Date']=='07/24/05') & (df['Flow_ID']==int(7))]\n",
        "ae = why.sort_values(by = [\"Count\"], ascending = False)\n",
        "top_10 = ae.head(10)\n",
        "august_thing = df.loc[(df['Date']>='08/01/05') & (df['Date']<='08/31/05') & (df['Flow_ID']==int(7))]"
      ]
    },
    {
      "cell_type": "markdown",
      "source": [
        "# Revisión sección \"Aplicar función\":"
      ],
      "metadata": {
        "id": "ZZvlVwNiTYL4"
      }
    },
    {
      "cell_type": "code",
      "source": [
        "top_10.min()"
      ],
      "metadata": {
        "colab": {
          "base_uri": "https://localhost:8080/"
        },
        "id": "IYuKv9GATVJ7",
        "outputId": "14c901ab-00d9-409f-8daf-baf28b35245e"
      },
      "execution_count": 44,
      "outputs": [
        {
          "output_type": "execute_result",
          "data": {
            "text/plain": [
              "Flow_ID           7\n",
              "Date       07/24/05\n",
              "Time       02:30:00\n",
              "Count             1\n",
              "dtype: object"
            ]
          },
          "metadata": {},
          "execution_count": 44
        }
      ]
    },
    {
      "cell_type": "markdown",
      "source": [
        "# Revisión sección \"agrupar\":"
      ],
      "metadata": {
        "id": "UqdQqx9LyviU"
      }
    },
    {
      "cell_type": "code",
      "source": [
        "df['Mes'] = df['Date'].str.slice(0, 2)\n",
        "count_rows=(df['Mes']=='08').sum()\n",
        "print(count_rows)\n",
        "\n"
      ],
      "metadata": {
        "colab": {
          "base_uri": "https://localhost:8080/"
        },
        "id": "-XPWoGD_DB2v",
        "outputId": "d5471770-10e0-4784-835b-1a42916b5f07"
      },
      "execution_count": 45,
      "outputs": [
        {
          "output_type": "stream",
          "name": "stdout",
          "text": [
            "2976\n"
          ]
        }
      ]
    }
  ]
}