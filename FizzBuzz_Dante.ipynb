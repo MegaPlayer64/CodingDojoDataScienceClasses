{
  "nbformat": 4,
  "nbformat_minor": 0,
  "metadata": {
    "colab": {
      "provenance": [],
      "authorship_tag": "ABX9TyNJ6m5gJLhIPczWizjqNWyK",
      "include_colab_link": true
    },
    "kernelspec": {
      "name": "python3",
      "display_name": "Python 3"
    },
    "language_info": {
      "name": "python"
    }
  },
  "cells": [
    {
      "cell_type": "markdown",
      "metadata": {
        "id": "view-in-github",
        "colab_type": "text"
      },
      "source": [
        "<a href=\"https://colab.research.google.com/github/MegaPlayer64/CodingDojoDataScienceClasses/blob/main/FizzBuzz_Dante.ipynb\" target=\"_parent\"><img src=\"https://colab.research.google.com/assets/colab-badge.svg\" alt=\"Open In Colab\"/></a>"
      ]
    },
    {
      "cell_type": "markdown",
      "source": [
        "# **FizzBuzz**\n",
        "**La actividad:**\n",
        "\n",
        "Escribe un código que imprima los números del 1 al 20. Pero para los múltiplos de tres imprime “Frizz” en lugar del número, y para los múltiplos de cinco imprime “Buzz”. Para los números que son múltiplos de tres y cinco imprime “FizzBuzz”.\n",
        "\n",
        "\n",
        "\n",
        "En estas versiones de la actividad se debe ingresar el valor estipulado para que funcione, esto hecho para la experimentacion de valores más altos, como en el ejercicio se pide el \"20\" como numero final, se debe poner ese numero cuando se le solicita uno"
      ],
      "metadata": {
        "id": "F3Y2r80kyTNI"
      }
    },
    {
      "cell_type": "markdown",
      "source": [
        "# Formato 1:\n",
        "Uso de la metodo 1 con el uso del \"for\""
      ],
      "metadata": {
        "id": "yqprFOtiv3VW"
      }
    },
    {
      "cell_type": "code",
      "execution_count": null,
      "metadata": {
        "id": "UfTuhqzxr0Xq"
      },
      "outputs": [],
      "source": [
        "n = int(input(\"Inserte un numero: \")) + 1\n",
        "for num in range(n):\n",
        "  if num % 3 == 0 and num % 5 == 0:\n",
        "      print('FizzBuzz')\n",
        "  elif num % 3 == 0:\n",
        "      print('Fizz')\n",
        "  elif num % 5 == 0:\n",
        "      print('Buzz')\n",
        "  else:\n",
        "      print(num)"
      ]
    },
    {
      "cell_type": "markdown",
      "source": [
        "# Formato 2:\n",
        "Uso de la metodo 2 con el uso del \"for\""
      ],
      "metadata": {
        "id": "3lbHrrmav32J"
      }
    },
    {
      "cell_type": "code",
      "source": [
        "n = int(input(\"Inserte un numero: \")) + 1\n",
        "for num in range(n):\n",
        "  string = \"\"\n",
        "  if num % 3 == 0:\n",
        "     string = string + \"Fizz\"\n",
        "  if num % 5 == 0:\n",
        "      string = string + \"Buzz\"\n",
        "  if num % 5 != 0 and num % 3 != 0:\n",
        "      string = string + str(num)\n",
        "  print(string)"
      ],
      "metadata": {
        "id": "8zu54dpOuyAW"
      },
      "execution_count": null,
      "outputs": []
    },
    {
      "cell_type": "markdown",
      "source": [
        "# Formato 3:\n",
        "Uso de la metodo 1 pero en forma de \"function()\" más el uso del \"for\"\n",
        "\n",
        "(Mi version principal)\n"
      ],
      "metadata": {
        "id": "N-GxE-XLv4W9"
      }
    },
    {
      "cell_type": "code",
      "source": [
        "v = int(input(\"Inserte un numero: \")) + 1\n",
        "def n(num):\n",
        "  if num % 3 == 0 and num % 5 == 0:\n",
        "      return('FizzBuzz')\n",
        "  elif num % 3 == 0:\n",
        "      return('Fizz')\n",
        "  elif num % 5 == 0:\n",
        "      return('Buzz')\n",
        "  else:\n",
        "      return(num)\n",
        "for i in range(v):\n",
        "  a = n(i)\n",
        "  print(a)"
      ],
      "metadata": {
        "id": "VHB3L-KBs68Y"
      },
      "execution_count": null,
      "outputs": []
    }
  ]
}