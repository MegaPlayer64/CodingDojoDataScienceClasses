{
  "nbformat": 4,
  "nbformat_minor": 0,
  "metadata": {
    "colab": {
      "provenance": [],
      "authorship_tag": "ABX9TyMBcjmzgnSTHaSpyppK/9qi",
      "include_colab_link": true
    },
    "kernelspec": {
      "name": "python3",
      "display_name": "Python 3"
    },
    "language_info": {
      "name": "python"
    }
  },
  "cells": [
    {
      "cell_type": "markdown",
      "metadata": {
        "id": "view-in-github",
        "colab_type": "text"
      },
      "source": [
        "<a href=\"https://colab.research.google.com/github/MegaPlayer64/CodingDojoDataScienceClasses/blob/main/La_panaderia_del_club_con_NumPy.ipynb\" target=\"_parent\"><img src=\"https://colab.research.google.com/assets/colab-badge.svg\" alt=\"Open In Colab\"/></a>"
      ]
    },
    {
      "cell_type": "code",
      "source": [
        "import numpy as np\n",
        "#(No me gusta usar acotaciones pero...) 1° Brownies, 2° Galletas, 3° Pastel, 4° Tarta, 5° Bandejas de ducles, 6° Magdalenas, 7° Pan de Platano\n",
        "price = np.array([2, 1, 12, 7, 4.5, 3, 4])\n",
        "quantity_sold = np.array([17, 39, 1, 2, 3, 16, 5])\n",
        "\n",
        "money_gain = price * quantity_sold\n",
        "print(\"La cantidad obtenida por cada producto en la venta inicial es de:\", money_gain)\n",
        "quantity_leftover = np.array([0, 0, 2, 1, 6, 0, 2])\n",
        "price_last = price * 0.5\n",
        "money_gain_last = quantity_leftover * price_last\n",
        "print(\"La cantidad obtenida por cada producto en la venta final es de:\", money_gain_last)\n",
        "total_money_gain = money_gain + money_gain_last\n",
        "total = np.sum(total_money_gain)\n",
        "print(\"La cantidad obtenida por ambas ventas de cada producto:\", total_money_gain, \"siendo al final un total de\", total)"
      ],
      "metadata": {
        "colab": {
          "base_uri": "https://localhost:8080/"
        },
        "id": "2oYUgOjiYHJp",
        "outputId": "9b3f80c1-ee41-424a-9a6d-54276ececd54"
      },
      "execution_count": 7,
      "outputs": [
        {
          "output_type": "stream",
          "name": "stdout",
          "text": [
            "La cantidad obtenida por cada producto en la venta inicial es de: [34.  39.  12.  14.  13.5 48.  20. ]\n",
            "La cantidad obtenida por cada producto en la venta final es de: [ 0.   0.  12.   3.5 13.5  0.   4. ]\n",
            "La cantidad obtenida por ambas ventas de cada producto: [34.  39.  24.  17.5 27.  48.  24. ] siendo al final un total de 213.5\n"
          ]
        }
      ]
    }
  ]
}