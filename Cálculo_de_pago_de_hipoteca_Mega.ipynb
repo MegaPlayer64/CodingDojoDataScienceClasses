{
  "nbformat": 4,
  "nbformat_minor": 0,
  "metadata": {
    "colab": {
      "provenance": [],
      "authorship_tag": "ABX9TyNtJWFqhME9Jz8Ke++0x7Hr",
      "include_colab_link": true
    },
    "kernelspec": {
      "name": "python3",
      "display_name": "Python 3"
    },
    "language_info": {
      "name": "python"
    }
  },
  "cells": [
    {
      "cell_type": "markdown",
      "metadata": {
        "id": "view-in-github",
        "colab_type": "text"
      },
      "source": [
        "<a href=\"https://colab.research.google.com/github/MegaPlayer64/CodingDojoDataScienceClasses/blob/main/C%C3%A1lculo_de_pago_de_hipoteca_Mega.ipynb\" target=\"_parent\"><img src=\"https://colab.research.google.com/assets/colab-badge.svg\" alt=\"Open In Colab\"/></a>"
      ]
    },
    {
      "cell_type": "markdown",
      "source": [
        "Cálculo de pago de hipoteca"
      ],
      "metadata": {
        "id": "mKJHCI7SqE9M"
      }
    },
    {
      "cell_type": "code",
      "execution_count": 6,
      "metadata": {
        "colab": {
          "base_uri": "https://localhost:8080/"
        },
        "id": "ug1fJNZ7qEgT",
        "outputId": "9f6af9d6-7def-4f7c-dd3a-4e05401b7e0b"
      },
      "outputs": [
        {
          "output_type": "stream",
          "name": "stdout",
          "text": [
            "Inserte la cantidad de dinero prestada: 400000\n",
            "¿Cuánto es el radio de intereses?: 3\n",
            "¿Cuántos pagos hiciste?(En años): 30\n",
            "El pago de la hipoteca seria de:  1686.4161349178237\n"
          ]
        }
      ],
      "source": [
        "Principal = int(input(\"Inserte la cantidad de dinero prestada: \"))\n",
        "Interes = int(input(\"¿Cuánto es el radio de intereses?: \"))\n",
        "Interes = Interes / 12 / 100\n",
        "NPago = int(input(\"¿Cuántos pagos hiciste?(En años): \"))\n",
        "NPago = NPago * 12\n",
        "PHipoteca = (Principal * ( Interes * ( ( 1 + Interes ) ** NPago ) ) )/(((1 + Interes) ** NPago) - 1)\n",
        "print(\"El pago de la hipoteca seria de: \", PHipoteca)"
      ]
    }
  ]
}