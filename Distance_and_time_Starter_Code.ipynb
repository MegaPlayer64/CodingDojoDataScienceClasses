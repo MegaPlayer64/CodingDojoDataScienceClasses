{
  "nbformat": 4,
  "nbformat_minor": 0,
  "metadata": {
    "colab": {
      "provenance": [],
      "include_colab_link": true
    },
    "kernelspec": {
      "name": "python3",
      "display_name": "Python 3"
    },
    "language_info": {
      "name": "python"
    }
  },
  "cells": [
    {
      "cell_type": "markdown",
      "metadata": {
        "id": "view-in-github",
        "colab_type": "text"
      },
      "source": [
        "<a href=\"https://colab.research.google.com/github/MegaPlayer64/CodingDojoDataScienceClasses/blob/First-Activities/Distance_and_time_Starter_Code.ipynb\" target=\"_parent\"><img src=\"https://colab.research.google.com/assets/colab-badge.svg\" alt=\"Open In Colab\"/></a>"
      ]
    },
    {
      "cell_type": "markdown",
      "metadata": {
        "id": "FM-AQ_LY7Ec_"
      },
      "source": [
        "# Starter Code\n",
        "\n",
        "# Exploring NumPy Arrays: Distance and Time"
      ]
    },
    {
      "cell_type": "markdown",
      "metadata": {
        "id": "KFL-xYXw9hPp"
      },
      "source": [
        "1) Import the numpy library"
      ]
    },
    {
      "cell_type": "code",
      "metadata": {
        "id": "KfK86qGd6_sF"
      },
      "source": [
        "import numpy as np"
      ],
      "execution_count": 1,
      "outputs": []
    },
    {
      "cell_type": "markdown",
      "metadata": {
        "id": "t9qEeja29wDt"
      },
      "source": [
        "2) Create a numpy array called \"distance\" that includes the following distances (in meters): 100, 200, 400, 800, 1500, 3000, 5000, 10000"
      ]
    },
    {
      "cell_type": "code",
      "metadata": {
        "id": "yffkXrYSdvpt"
      },
      "source": [
        "distance = np.array([100, 200, 400, 800, 1500, 3000, 5000, 10000])"
      ],
      "execution_count": 20,
      "outputs": []
    },
    {
      "cell_type": "markdown",
      "metadata": {
        "id": "yJJj_-PS9-84"
      },
      "source": [
        "3) Use the np.min() and np.max() functions to find the minimum and maximum distances"
      ]
    },
    {
      "cell_type": "code",
      "metadata": {
        "id": "Cm0h775W7j1I",
        "colab": {
          "base_uri": "https://localhost:8080/"
        },
        "outputId": "b11dbce0-3e97-4bbf-e745-f9157fcd2776"
      },
      "source": [
        "print(\"Mininum is:\", np.min(distance), \"and maxinum is:\", np.max(distance))"
      ],
      "execution_count": 9,
      "outputs": [
        {
          "output_type": "stream",
          "name": "stdout",
          "text": [
            "Mininum is: 100 and maxinum is: 10000\n"
          ]
        }
      ]
    },
    {
      "cell_type": "markdown",
      "metadata": {
        "id": "1GKAMKM4-D4n"
      },
      "source": [
        "4) To find the average distance, use the np.mean() function"
      ]
    },
    {
      "cell_type": "code",
      "metadata": {
        "id": "eMVVUS7D7qzi",
        "colab": {
          "base_uri": "https://localhost:8080/"
        },
        "outputId": "74dcdf1d-98c5-453c-9231-2a65c8c58dee"
      },
      "source": [
        "print(\"The average distance is:\", np.mean(distance))"
      ],
      "execution_count": 8,
      "outputs": [
        {
          "output_type": "stream",
          "name": "stdout",
          "text": [
            "The average distance is: 2625.0\n"
          ]
        }
      ]
    },
    {
      "cell_type": "markdown",
      "metadata": {
        "id": "jrsIZDBN-Lwg"
      },
      "source": [
        "5) use the np.sum() function to find the total distance"
      ]
    },
    {
      "cell_type": "code",
      "metadata": {
        "id": "hrlC2Z8Q7vFD",
        "colab": {
          "base_uri": "https://localhost:8080/"
        },
        "outputId": "9f3eee6f-3925-4d92-e388-7b466472e3f2"
      },
      "source": [
        "print(\"The total distance is:\", np.sum(distance))"
      ],
      "execution_count": 7,
      "outputs": [
        {
          "output_type": "stream",
          "name": "stdout",
          "text": [
            "The total distance is: 21000\n"
          ]
        }
      ]
    },
    {
      "cell_type": "markdown",
      "metadata": {
        "id": "TZh6JLbu-Qt_"
      },
      "source": [
        "6) Another valuable function is the np.cumsum() function which outputs the cumulative sum...notice the output will be 100, 300, 700 as it adds each new distance"
      ]
    },
    {
      "cell_type": "code",
      "metadata": {
        "id": "zE035Xl574vz",
        "colab": {
          "base_uri": "https://localhost:8080/"
        },
        "outputId": "c5c6a4f7-aaa0-421a-d545-a8d4e19e0c71"
      },
      "source": [
        "print(\"The total distances as multiple sums are (I guess):\", np.cumsum(distance))"
      ],
      "execution_count": 13,
      "outputs": [
        {
          "output_type": "stream",
          "name": "stdout",
          "text": [
            "The total distances as multiple sums are (I guess): [  100   300   700  1500  3000  6000 11000 21000]\n"
          ]
        }
      ]
    },
    {
      "cell_type": "markdown",
      "metadata": {
        "id": "XlxjutTF-XSf"
      },
      "source": [
        "7) To round all of the values in an array, use np.round()"
      ]
    },
    {
      "cell_type": "code",
      "metadata": {
        "id": "hrBA_Qqt8E3V",
        "colab": {
          "base_uri": "https://localhost:8080/"
        },
        "outputId": "ee00a9f7-3e67-4ce6-a57b-6335776067b7"
      },
      "source": [
        "print(\"All the variables rounded is:\", np.round(distance))"
      ],
      "execution_count": 12,
      "outputs": [
        {
          "output_type": "stream",
          "name": "stdout",
          "text": [
            "All the variables rounded is: [  100   200   400   800  1500  3000  5000 10000]\n"
          ]
        }
      ]
    },
    {
      "cell_type": "markdown",
      "metadata": {
        "id": "-wL-9Gl0-eSo"
      },
      "source": [
        "8) Create a numpy array called time that includes the following times (in seconds):  10.62, 21.34, 48.25, 113.43, 233.96, 506.53, 866.17, 1757.45"
      ]
    },
    {
      "cell_type": "code",
      "metadata": {
        "id": "KFwp2lb88KgE"
      },
      "source": [
        "time = np.array([10.62, 21.34, 48.25, 113.43, 233.96, 506.53, 866.17, 1757.45])"
      ],
      "execution_count": 19,
      "outputs": []
    },
    {
      "cell_type": "markdown",
      "metadata": {
        "id": "MFspcIAi-kJY"
      },
      "source": [
        "9) the values in your time array correspond to olympic records for running the corresponding distances.  Perform the calculation needed to find the speed (in m/s) for each record distance.  Note that speed is distance divided by time."
      ]
    },
    {
      "cell_type": "code",
      "metadata": {
        "id": "VacJ48K3-jwq",
        "colab": {
          "base_uri": "https://localhost:8080/"
        },
        "outputId": "8280a0a6-5871-4fb6-b77c-47728d70537c"
      },
      "source": [
        "speed = distance / time\n",
        "print(speed)"
      ],
      "execution_count": 21,
      "outputs": [
        {
          "output_type": "stream",
          "name": "stdout",
          "text": [
            "[9.41619586 9.37207123 8.29015544 7.0528079  6.41135237 5.92265019\n",
            " 5.77253888 5.69006231]\n"
          ]
        }
      ]
    },
    {
      "cell_type": "markdown",
      "metadata": {
        "id": "BRURQ2P3-oXv"
      },
      "source": [
        "10) One common problem data scientists run into is that we are given information in units that are not consistent.  \n",
        "For example, we might want to compare data that is given in meters to second to data that is given in miles per hour. A cheetah is the fastest land animal which can reach speeds of 75.0 miles per hour.  \n",
        "In order to compare our olympians to a cheetah, we need to be able to convert from one unit to another.\n",
        "Perform calculations to convert the olympic record speeds from meters/second into miles per hour.  Note: 1 meter = 0.00062 miles\n",
        "\n",
        "How do our olympians compare to the cheetah?\n",
        "\n",
        "(Hint: Speed in m/s multiplied by 0.00062 and multiplied by 3600 will give speed in miles per hour)"
      ]
    },
    {
      "cell_type": "code",
      "metadata": {
        "id": "8LehjzOx8YY0",
        "colab": {
          "base_uri": "https://localhost:8080/"
        },
        "outputId": "47962c67-261b-46a0-defa-980d2ffe949f"
      },
      "source": [
        "speed_miles = speed * 0.00062 * 3600\n",
        "print(speed_miles)"
      ],
      "execution_count": 23,
      "outputs": [
        {
          "output_type": "stream",
          "name": "stdout",
          "text": [
            "[21.01694915 20.91846298 18.50362694 15.74186723 14.31013849 13.21935522\n",
            " 12.88430678 12.70021907]\n"
          ]
        }
      ]
    }
  ]
}